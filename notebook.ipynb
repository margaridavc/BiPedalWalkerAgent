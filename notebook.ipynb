{
 "cells": [
  {
   "cell_type": "markdown",
   "source": [
    "# Gym Environments and Implementing Reinforcement Learning Agents with Stable Baselines\n",
    "\n",
    "<br>\n",
    "<br>\n",
    "\n",
    "## The environment"
   ],
   "metadata": {
    "collapsed": false
   },
   "id": "25cb727c855d83ec"
  },
  {
   "cell_type": "code",
   "execution_count": 10,
   "outputs": [],
   "source": [
    "import gymnasium as gym\n",
    "\n",
    "env_id = \"BipedalWalker-v3\"\n",
    "env = gym.make(env_id, hardcore=True)"
   ],
   "metadata": {
    "collapsed": false,
    "ExecuteTime": {
     "end_time": "2023-12-15T12:29:55.979283Z",
     "start_time": "2023-12-15T12:29:55.962118Z"
    }
   },
   "id": "f1ae42faa11e2d44"
  },
  {
   "cell_type": "markdown",
   "source": [
    "We chose the `BipedalWalker-v3` environment because it's a continuous action space, and it's (when in hardcore mode) a challenging environment to solve.\n",
    "\n",
    "<br>\n",
    "<br>\n",
    "\n",
    "To see the training progress, we use tensorboard to visualize the training progress and took screenshots of the graphs to use them below. \n",
    "\n",
    "\n",
    "<br>\n",
    "\n",
    "\n",
    "```bash\n",
    "    tensorboard --logdir=logs\n",
    "```\n",
    "\n",
    "<br>\n",
    "\n",
    "<br>\n",
    "\n",
    "\n",
    "---\n",
    "\n",
    "\n",
    "<br>\n",
    "\n",
    "\n",
    "\n",
    "## The algorithms\n",
    "\n",
    "\n",
    "In the assignment, to use our environment, we needed to choose a few from the following algorithms:\n",
    "\n",
    "<br>\n",
    "\n",
    "- ARS (Augmented Random Search)\n",
    "- A2C (Advantage Actor Critic)\n",
    "- DDPG (Deep Deterministic Policy Gradient)\n",
    "- PPO (Proximal Policy Optimization)\n",
    "- RecurrentPPO (Recurrent Proximal Policy Optimization)\n",
    "- SAC (Soft Actor Critic)\n",
    "- TD3 (Twin Delayed DDPG)\n",
    "- TQC (Twin Q-Value Critic)\n",
    "- TRPO (Trust Region Policy Optimization)\n",
    "\n",
    "<br>\n",
    "<br>\n",
    "\n",
    "\n",
    "\n",
    "\n",
    "To see the top 3 algorithms, we trained all of them for 1/1.5M iterations and chose the best ones:\n",
    "\n",
    "To train them, we used the following script:\n"
   ],
   "metadata": {
    "collapsed": false
   },
   "id": "6c7fc1f9cb98cc40"
  },
  {
   "cell_type": "code",
   "execution_count": 11,
   "outputs": [],
   "source": [
    "import os\n",
    "from stable_baselines3.common.vec_env import SubprocVecEnv\n",
    "from stable_baselines3.common.env_util import make_vec_env\n",
    "\n",
    "models_dir = \"models\"\n",
    "logdir = \"logs\"\n",
    "TIMESTEPS = 10**6\n",
    "\n",
    "\n",
    "def train_model(algo, algo_name, policy, n_envs=os.cpu_count()):\n",
    "    \n",
    "    def latest_model(algorithm):\n",
    "        models = [int(m.split(\".\")[0]) for m in os.listdir(f\"{models_dir}/{algorithm}\")]\n",
    "        models.sort()\n",
    "        return f\"{models_dir}/{algorithm}/{models[-1]}.zip\"\n",
    "\n",
    "    train_env = make_vec_env(env_id, n_envs=n_envs, vec_env_cls=SubprocVecEnv, env_kwargs=dict(hardcore=True),\n",
    "                       vec_env_kwargs=dict(start_method='fork'))\n",
    "\n",
    "    if os.path.exists(f\"{models_dir}/{algo_name}\"):\n",
    "        if os.listdir(f\"{models_dir}/{algo_name}\"):\n",
    "\n",
    "            model_path = latest_model(algo_name)\n",
    "            model = algo.load(model_path, env=train_env)\n",
    "            iters = int(int(model_path.split(\"/\")[2].split(\".\")[0]) / 10 ** 4)\n",
    "        else:\n",
    "\n",
    "            model = algo(policy, train_env, verbose=1, tensorboard_log=logdir)\n",
    "            iters = 0\n",
    "    else:\n",
    "        os.makedirs(f\"{models_dir}/{algo_name}\")\n",
    "        model = algo(policy, train_env, verbose=1,tensorboard_log=logdir)\n",
    "        iters = 0\n",
    "\n",
    "    while True:\n",
    "        iters += 1\n",
    "        model.learn(total_timesteps=TIMESTEPS, progress_bar=True, reset_num_timesteps=False,tb_log_name=algo_name)\n",
    "        model.save(f\"{models_dir}/{algo_name}/{TIMESTEPS * iters}\")\n",
    "        if iters*TIMESTEPS >= 50*TIMESTEPS:\n",
    "            break\n"
   ],
   "metadata": {
    "collapsed": false,
    "ExecuteTime": {
     "end_time": "2023-12-15T12:29:55.994732Z",
     "start_time": "2023-12-15T12:29:55.987718Z"
    }
   },
   "id": "5857e123a0e11115"
  },
  {
   "cell_type": "markdown",
   "source": [
    "## Training all the possible models"
   ],
   "metadata": {
    "collapsed": false
   },
   "id": "3ad91d413e67960f"
  },
  {
   "cell_type": "markdown",
   "source": [
    "To train the models, we called the funtion above with a smaller limit.\n",
    "\n",
    "Then we got this graph of the training progress:\n",
    "\n",
    "![graph](imgs/all_models_original_env.png)\n"
   ],
   "metadata": {
    "collapsed": false
   },
   "id": "1fb720ccfe67f156"
  },
  {
   "cell_type": "code",
   "execution_count": 12,
   "outputs": [],
   "source": [
    "from stable_baselines3.common.evaluation import evaluate_policy\n",
    "import matplotlib.pyplot as plt\n",
    "\n",
    "def test_performance(model):\n",
    "    mean_reward, std_reward = evaluate_policy(model, env, n_eval_episodes=10, warn=False)\n",
    "    return round(mean_reward, 2)\n",
    "\n",
    "def draw_performance(performances):\n",
    "    names, values = zip(*performances)\n",
    "    cmap = plt.get_cmap('Greens')\n",
    "    colors = [cmap(i / len(names)) for i in range(len(names))]    \n",
    "    fig, ax = plt.subplots(figsize=(10, 4))\n",
    "    ax.axhline(y=0, color='white', linestyle='-', linewidth=2)\n",
    "    bars = ax.bar(names, values, color=colors, alpha=0.7)\n",
    "    for bar, value in zip(bars, values):\n",
    "        ax.text(bar.get_x() + bar.get_width() / 2, bar.get_height() + 0.1, str(value), ha='center')\n",
    "    ax.set_title('Performance')    \n",
    "    plt.tight_layout()\n",
    "    plt.show()\n",
    "    \n",
    "def visualize_model(model):\n",
    "    evaluate_policy(model, gym.make('BipedalWalker-v3', hardcore=True, render_mode=\"human\"), n_eval_episodes=1, warn=False)"
   ],
   "metadata": {
    "collapsed": false,
    "ExecuteTime": {
     "end_time": "2023-12-15T12:29:55.997067Z",
     "start_time": "2023-12-15T12:29:55.993327Z"
    }
   },
   "id": "86aacd37b81217b5"
  },
  {
   "cell_type": "markdown",
   "source": [
    "Let's test the environment with a random agent from each algorithm:"
   ],
   "metadata": {
    "collapsed": false
   },
   "id": "799d52ccff74f4c8"
  },
  {
   "cell_type": "code",
   "execution_count": 13,
   "outputs": [],
   "source": [
    "from stable_baselines3 import A2C, PPO, SAC\n",
    "from sb3_contrib import ARS, RecurrentPPO, TQC, TRPO"
   ],
   "metadata": {
    "collapsed": false,
    "ExecuteTime": {
     "end_time": "2023-12-15T12:29:56.004058Z",
     "start_time": "2023-12-15T12:29:55.997484Z"
    }
   },
   "id": "1fad7e31187751d3"
  },
  {
   "cell_type": "code",
   "execution_count": 14,
   "outputs": [
    {
     "name": "stdout",
     "output_type": "stream",
     "text": [
      "Wrapping the env with a `Monitor` wrapper\n",
      "Wrapping the env in a DummyVecEnv.\n",
      "Wrapping the env with a `Monitor` wrapper\n",
      "Wrapping the env in a DummyVecEnv.\n",
      "Wrapping the env with a `Monitor` wrapper\n",
      "Wrapping the env in a DummyVecEnv.\n",
      "Wrapping the env with a `Monitor` wrapper\n",
      "Wrapping the env in a DummyVecEnv.\n",
      "Wrapping the env with a `Monitor` wrapper\n",
      "Wrapping the env in a DummyVecEnv.\n",
      "Wrapping the env with a `Monitor` wrapper\n",
      "Wrapping the env in a DummyVecEnv.\n",
      "Wrapping the env with a `Monitor` wrapper\n",
      "Wrapping the env in a DummyVecEnv.\n"
     ]
    },
    {
     "data": {
      "text/plain": "<Figure size 1000x400 with 1 Axes>",
      "image/png": "[encoded data removed]"
     },
     "metadata": {},
     "output_type": "display_data"
    }
   ],
   "source": [
    "draw_performance([(\"A2C\", test_performance(A2C.load(\"final_models/A2C_shallow_trained_original_env.zip\", env=env))),\n",
    "                 (\"ARS\", test_performance(ARS.load(\"final_models/ARS_shallow_trained_original_env.zip\", env=env))),\n",
    "                 (\"PPO\", test_performance(PPO.load(\"final_models/PPO_shallow_trained_original_env.zip\", env=env))),\n",
    "                 (\"RecurrentPPO\", test_performance(RecurrentPPO.load(\"final_models/RPPO_shallow_trained_original_env.zip\", env=env))),\n",
    "                 (\"SAC\", test_performance(SAC.load(\"final_models/SAC_shallow_trained_original_env.zip\", env=env))),\n",
    "                 (\"TQC\", test_performance(TQC.load(\"final_models/TQC_shallow_trained_original_env.zip\", env=env))),\n",
    "                 (\"TRPO\", test_performance(TRPO.load(\"final_models/TRPO_shallow_trained_original_env.zip\", env=env)))])\n"
   ],
   "metadata": {
    "collapsed": false,
    "ExecuteTime": {
     "end_time": "2023-12-15T12:30:14.439465Z",
     "start_time": "2023-12-15T12:29:56.005745Z"
    }
   },
   "id": "ad543c044d2f62ee"
  },
  {
   "cell_type": "markdown",
   "source": [
    "## Deeply training the top 5\n",
    "\n",
    "<br>\n",
    "\n",
    "We discarded the models that don't have capabilities to train the environment using SubprocVecEnv:\n",
    "- DDPG\n",
    "- TD3\n",
    "\n",
    "\n",
    "Because without it, they are too slow to train.\n",
    "\n",
    "<br>\n",
    "Now let's continue the training with the top five algorithms:\n",
    "\n",
    "- ARS\n",
    "- PPO\n",
    "- SAC\n",
    "- TRPO\n",
    "- TQC\n",
    "\n",
    "\n",
    "<br>\n",
    "<br>\n",
    "\n",
    "![graph](imgs/models_in_original_env.png)\n",
    "\n",
    "\n",
    "<br>"
   ],
   "metadata": {
    "collapsed": false
   },
   "id": "6cb3972dd5dada6c"
  },
  {
   "cell_type": "code",
   "execution_count": 15,
   "outputs": [
    {
     "name": "stdout",
     "output_type": "stream",
     "text": [
      "Wrapping the env with a `Monitor` wrapper\n",
      "Wrapping the env in a DummyVecEnv.\n",
      "Wrapping the env with a `Monitor` wrapper\n",
      "Wrapping the env in a DummyVecEnv.\n",
      "Wrapping the env with a `Monitor` wrapper\n",
      "Wrapping the env in a DummyVecEnv.\n",
      "Wrapping the env with a `Monitor` wrapper\n",
      "Wrapping the env in a DummyVecEnv.\n",
      "Wrapping the env with a `Monitor` wrapper\n",
      "Wrapping the env in a DummyVecEnv.\n"
     ]
    },
    {
     "data": {
      "text/plain": "<Figure size 1000x400 with 1 Axes>",
      "image/png": "[encoded data removed]"
     },
     "metadata": {},
     "output_type": "display_data"
    }
   ],
   "source": [
    "draw_performance([(\"ARS\", test_performance(ARS.load(\"final_models/ARS_original_env.zip\", env=env))),\n",
    "                  (\"PPO\", test_performance(PPO.load(\"final_models/PPO_original_env.zip\", env=env))),\n",
    "                  (\"SAC\", test_performance(SAC.load(\"final_models/SAC_original_env.zip\", env=env))),\n",
    "                  (\"TQC\", test_performance(TQC.load(\"final_models/TQC_original_env.zip\", env=env))),\n",
    "                  (\"TRPO\", test_performance(TRPO.load(\"final_models/TRPO_original_env.zip\", env=env)))])"
   ],
   "metadata": {
    "collapsed": false,
    "ExecuteTime": {
     "end_time": "2023-12-15T12:30:28.033822Z",
     "start_time": "2023-12-15T12:30:14.441971Z"
    }
   },
   "id": "c5e3a3dce3dc2e6e"
  },
  {
   "cell_type": "markdown",
   "source": [
    "Without any alteration to the environment, the TQC model seems to most of the time very successfully solve the environment.\n",
    "\n",
    "The other models are clearly struggling with it.\n",
    "\n",
    "\n",
    "<br>\n",
    "\n",
    "## Creating a RewardWrapper\n",
    "\n",
    "<br>\n",
    "\n",
    "We checked, and the problem seems to be that the walker gets stuck in the same place with its legs open.\n",
    "<br>\n",
    "\n",
    "![graph](imgs/stuck_walker.png)\n",
    "\n",
    "<br>\n",
    "<br>\n",
    "\n",
    "To see if we can improve the results, we will try to reward the agent when it stays balanced upright. Theoretically, this should help the agent to learn how to not get stuck with its legs open.\n",
    "\n",
    "\n"
   ],
   "metadata": {
    "collapsed": false
   },
   "id": "be23b574b88e924c"
  },
  {
   "cell_type": "code",
   "execution_count": 16,
   "outputs": [],
   "source": [
    "from gymnasium import RewardWrapper as RW\n",
    "\n",
    "class BalanceRewardWrapper(RW):\n",
    "    def __init__(self, environment):\n",
    "        super().__init__(environment)\n",
    "        self.env = environment\n",
    "\n",
    "    def step(self, action):\n",
    "        obs, reward, done, _, info = self.env.step(action)\n",
    "\n",
    "        # Add a reward for keeping balance\n",
    "        balance_reward = abs(obs[2])\n",
    "        reward += balance_reward\n",
    "\n",
    "        return obs, reward, done, _, info"
   ],
   "metadata": {
    "collapsed": false,
    "ExecuteTime": {
     "end_time": "2023-12-15T12:30:28.035232Z",
     "start_time": "2023-12-15T12:30:28.027464Z"
    }
   },
   "id": "3f022d23d3f14959"
  },
  {
   "cell_type": "markdown",
   "source": [
    "To train the models, with the RewardWrapper we need to change the environment creation in the training script:\n",
    "\n",
    "<br>\n",
    "\n",
    "```python\n",
    "env = make_vec_env(env_id, n_envs=NUM_ENVS, wrapper_class=RewardWrapper, vec_env_cls=SubprocVecEnv, vec_env_kwargs=dict(start_method='fork'), env_kwargs=dict(hardcore=True))\n",
    "```\n",
    "\n",
    "<br>\n",
    "\n",
    "Now let's train the models again and check the results.\n",
    "\n",
    "<br>\n",
    "\n",
    "![graph](imgs/models_in_wrapped_env.png)"
   ],
   "metadata": {
    "collapsed": false
   },
   "id": "ecaf43211c4394b"
  },
  {
   "cell_type": "code",
   "execution_count": 17,
   "outputs": [
    {
     "name": "stdout",
     "output_type": "stream",
     "text": [
      "Wrapping the env with a `Monitor` wrapper\n",
      "Wrapping the env in a DummyVecEnv.\n",
      "Wrapping the env with a `Monitor` wrapper\n",
      "Wrapping the env in a DummyVecEnv.\n",
      "Wrapping the env with a `Monitor` wrapper\n",
      "Wrapping the env in a DummyVecEnv.\n",
      "Wrapping the env with a `Monitor` wrapper\n",
      "Wrapping the env in a DummyVecEnv.\n",
      "Wrapping the env with a `Monitor` wrapper\n",
      "Wrapping the env in a DummyVecEnv.\n"
     ]
    },
    {
     "data": {
      "text/plain": "<Figure size 1000x400 with 1 Axes>",
      "image/png": "[encoded data removed]"
     },
     "metadata": {},
     "output_type": "display_data"
    }
   ],
   "source": [
    "draw_performance([(\"ARS\", test_performance(ARS.load(\"final_models/ARS_wrapped_env.zip\", env=env))),\n",
    "                  (\"PPO\", test_performance(PPO.load(\"final_models/PPO_wrapped_env.zip\", env=env))),\n",
    "                  (\"SAC\", test_performance(SAC.load(\"final_models/SAC_wrapped_env.zip\", env=env))),\n",
    "                  (\"TQC\", test_performance(TQC.load(\"final_models/TQC_wrapped_env.zip\", env=env))),\n",
    "                  (\"TRPO\", test_performance(TRPO.load(\"final_models/TRPO_wrapped_env.zip\", env=env)))])"
   ],
   "metadata": {
    "collapsed": false,
    "ExecuteTime": {
     "end_time": "2023-12-15T12:30:42.728744Z",
     "start_time": "2023-12-15T12:30:28.033101Z"
    }
   },
   "id": "738595f999335228"
  },
  {
   "cell_type": "markdown",
   "source": [
    "## Conclusion \n",
    "\n",
    "\n",
    "As we can see, our reward wrapper generally improved the results of all the models. Except the TQC model that seems to have been affected negatively by the wrapper. \n",
    "\n",
    "We can see that the best models we have are the PPO trained with the wrapper and the TQC model without it.\n"
   ],
   "metadata": {
    "collapsed": false
   },
   "id": "dcac235b1c370c88"
  }
 ],
 "metadata": {
  "kernelspec": {
   "display_name": "Python 3",
   "language": "python",
   "name": "python3"
  },
  "language_info": {
   "codemirror_mode": {
    "name": "ipython",
    "version": 2
   },
   "file_extension": ".py",
   "mimetype": "text/x-python",
   "name": "python",
   "nbconvert_exporter": "python",
   "pygments_lexer": "ipython2",
   "version": "2.7.6"
  }
 },
 "nbformat": 4,
 "nbformat_minor": 5
}
