{
 "cells": [
  {
   "cell_type": "markdown",
   "source": [
    "# Gym Environments and Implementing Reinforcement Learning Agents with Stable Baselines"
   ],
   "metadata": {
    "collapsed": false
   },
   "id": "25cb727c855d83ec"
  },
  {
   "cell_type": "code",
   "execution_count": 1,
   "id": "initial_id",
   "metadata": {
    "collapsed": true,
    "ExecuteTime": {
     "end_time": "2023-12-05T19:00:45.766256Z",
     "start_time": "2023-12-05T19:00:41.821436Z"
    }
   },
   "outputs": [],
   "source": [
    "import time\n",
    "import numpy as np\n",
    "import gymnasium as gym\n",
    "import matplotlib.pyplot as plt\n",
    "from training import latest_model\n",
    "from stable_baselines3 import PPO,A2C\n",
    "from stable_baselines3.ppo.policies import MlpPolicy\n",
    "from stable_baselines3.common.env_util import make_vec_env\n",
    "from stable_baselines3.common.vec_env import DummyVecEnv, SubprocVecEnv\n",
    "from stable_baselines3.common.evaluation import evaluate_policy"
   ]
  },
  {
   "cell_type": "markdown",
   "source": [
    "Trying the enviroment"
   ],
   "metadata": {
    "collapsed": false
   },
   "id": "52bbb4f3d1b1ce21"
  },
  {
   "cell_type": "code",
   "execution_count": 2,
   "outputs": [],
   "source": [
    "env = gym.make('CarRacing-v2')\n",
    "obs, info = env.reset()"
   ],
   "metadata": {
    "collapsed": false,
    "ExecuteTime": {
     "end_time": "2023-12-05T19:00:45.806074Z",
     "start_time": "2023-12-05T19:00:45.770066Z"
    }
   },
   "id": "6811a21c02142c7b"
  },
  {
   "cell_type": "markdown",
   "source": [
    "Let's see what the environment looks like"
   ],
   "metadata": {
    "collapsed": false
   },
   "id": "6666e1fff3912647"
  },
  {
   "cell_type": "code",
   "execution_count": 3,
   "outputs": [
    {
     "name": "stdout",
     "output_type": "stream",
     "text": [
      "sample action: [0.05034393 0.67812884 0.6773829 ]\n",
      "observation space shape: (96, 96, 3)\n"
     ]
    }
   ],
   "source": [
    "print(\"sample action:\", env.action_space.sample())\n",
    "\n",
    "print(\"observation space shape:\", env.observation_space.shape)\n",
    "\n",
    "#print(\"sample observation:\", env.observation_space.sample())"
   ],
   "metadata": {
    "collapsed": false,
    "ExecuteTime": {
     "end_time": "2023-12-05T19:00:45.822450Z",
     "start_time": "2023-12-05T19:00:45.801869Z"
    }
   },
   "id": "5d7946648259deeb"
  },
  {
   "cell_type": "markdown",
   "source": [
    "Let's test the model before training"
   ],
   "metadata": {
    "collapsed": false
   },
   "id": "38c9e6ce9b434693"
  },
  {
   "cell_type": "code",
   "execution_count": null,
   "outputs": [],
   "source": [
    "untrained_model = PPO(MlpPolicy, env, verbose=0)\n",
    "\n",
    "mean_reward, std_reward = evaluate_policy(untrained_model, env, n_eval_episodes=100, warn=False)\n",
    "\n",
    "print(f\"mean_reward: {mean_reward:.2f} +/- {std_reward:.2f}\")"
   ],
   "metadata": {
    "collapsed": false,
    "is_executing": true,
    "ExecuteTime": {
     "start_time": "2023-12-05T19:00:45.820942Z"
    }
   },
   "id": "1d5558ef03e14ada"
  },
  {
   "cell_type": "markdown",
   "source": [
    "We created a script that creates a model and starts training it. If a model has already been created it trains it further:"
   ],
   "metadata": {
    "collapsed": false
   },
   "id": "859a06342aa6af24"
  },
  {
   "cell_type": "markdown",
   "source": [
    "```bash\n",
    "python training.py PPO\n",
    "```"
   ],
   "metadata": {
    "collapsed": false
   },
   "id": "763fd7d227ea5618"
  },
  {
   "cell_type": "markdown",
   "source": [
    "```bash\n",
    "python training.py A2C\n",
    "```"
   ],
   "metadata": {
    "collapsed": false
   },
   "id": "d5ee6713421227d6"
  },
  {
   "cell_type": "markdown",
   "source": [
    "The models are saved in the folder `models` and then we use the latest model to test them"
   ],
   "metadata": {
    "collapsed": false
   },
   "id": "7bb44e852f824c52"
  },
  {
   "cell_type": "markdown",
   "source": [
    "To see the training progress we can use tensorboard:"
   ],
   "metadata": {
    "collapsed": false
   },
   "id": "bff183f09ee8f79d"
  },
  {
   "cell_type": "markdown",
   "source": [
    "```bash\n",
    "tensorboard --logdir=logs\n",
    "```"
   ],
   "metadata": {
    "collapsed": false
   },
   "id": "deab54558d1785fe"
  },
  {
   "cell_type": "markdown",
   "source": [
    "PPO algorithm"
   ],
   "metadata": {
    "collapsed": false
   },
   "id": "2c3c9589925fc5b0"
  },
  {
   "cell_type": "code",
   "execution_count": null,
   "outputs": [],
   "source": [
    "ppo_model = PPO.load(latest_model(\"PPO\"), env=env)\n",
    "\n",
    "episodes = 100\n",
    "\n",
    "for ep in range(episodes):\n",
    "    done = False\n",
    "    while not done:\n",
    "        action, _states = ppo_model.predict(obs)\n",
    "        obs, rewards, done,_, info = env.step(action)\n",
    "        env.render()\n",
    "        print(rewards)"
   ],
   "metadata": {
    "collapsed": false,
    "is_executing": true
   },
   "id": "f34b0218a8d978b8"
  },
  {
   "cell_type": "markdown",
   "source": [
    "A2C algorithm"
   ],
   "metadata": {
    "collapsed": false
   },
   "id": "e2b7bd720bc6628c"
  },
  {
   "cell_type": "code",
   "execution_count": null,
   "outputs": [],
   "source": [
    "a2c_model = A2C.load(latest_model(\"A2C\"), env=env)\n",
    "\n",
    "episodes = 100\n",
    "\n",
    "for ep in range(episodes):\n",
    "    done = False\n",
    "    while not done:\n",
    "        action, _states = a2c_model.predict(obs)\n",
    "        obs, rewards, done,_, info = env.step(action)\n",
    "        env.render()\n",
    "        print(rewards)"
   ],
   "metadata": {
    "collapsed": false,
    "is_executing": true
   },
   "id": "215a44b7e8c8cafa"
  },
  {
   "cell_type": "markdown",
   "source": [
    "Review code below"
   ],
   "metadata": {
    "collapsed": false
   },
   "id": "84dd1432c698a2be"
  },
  {
   "cell_type": "code",
   "execution_count": null,
   "outputs": [],
   "source": [],
   "metadata": {
    "collapsed": false
   },
   "id": "1879ca478b3539ce"
  },
  {
   "cell_type": "code",
   "execution_count": null,
   "outputs": [],
   "source": [],
   "metadata": {
    "collapsed": false
   },
   "id": "fc806f0f10e52420"
  },
  {
   "cell_type": "code",
   "execution_count": null,
   "outputs": [],
   "source": [],
   "metadata": {
    "collapsed": false
   },
   "id": "ca5f160fef2ec4ff"
  },
  {
   "cell_type": "code",
   "execution_count": null,
   "outputs": [],
   "source": [],
   "metadata": {
    "collapsed": false
   },
   "id": "839ad38eb41c9705"
  },
  {
   "cell_type": "code",
   "execution_count": null,
   "outputs": [],
   "source": [],
   "metadata": {
    "collapsed": false
   },
   "id": "1918a7960ef01169"
  },
  {
   "cell_type": "code",
   "execution_count": null,
   "outputs": [],
   "source": [],
   "metadata": {
    "collapsed": false
   },
   "id": "b5790e48bae91594"
  },
  {
   "cell_type": "code",
   "execution_count": null,
   "outputs": [],
   "source": [],
   "metadata": {
    "collapsed": false
   },
   "id": "cad31ad20de73c4f"
  },
  {
   "cell_type": "code",
   "execution_count": null,
   "outputs": [],
   "source": [],
   "metadata": {
    "collapsed": false
   },
   "id": "73243d24014ff015"
  },
  {
   "cell_type": "code",
   "execution_count": null,
   "outputs": [],
   "source": [],
   "metadata": {
    "collapsed": false
   },
   "id": "2ef10eff65299656"
  }
 ],
 "metadata": {
  "kernelspec": {
   "display_name": "Python 3",
   "language": "python",
   "name": "python3"
  },
  "language_info": {
   "codemirror_mode": {
    "name": "ipython",
    "version": 2
   },
   "file_extension": ".py",
   "mimetype": "text/x-python",
   "name": "python",
   "nbconvert_exporter": "python",
   "pygments_lexer": "ipython2",
   "version": "2.7.6"
  }
 },
 "nbformat": 4,
 "nbformat_minor": 5
}
