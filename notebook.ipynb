{
 "cells": [
  {
   "cell_type": "markdown",
   "source": [
    "# Gym Environments and Implementing Reinforcement Learning Agents with Stable Baselines\n",
    "\n",
    "<br>\n",
    "<br>\n",
    "\n",
    "## The environment"
   ],
   "metadata": {
    "collapsed": false
   },
   "id": "25cb727c855d83ec"
  },
  {
   "cell_type": "code",
   "execution_count": 3,
   "outputs": [],
   "source": [
    "import gymnasium as gym\n",
    "\n",
    "env_id = \"BipedalWalker-v3\"\n",
    "env = gym.make(env_id, hardcore=True)"
   ],
   "metadata": {
    "collapsed": false,
    "ExecuteTime": {
     "end_time": "2023-12-14T04:42:16.755515Z",
     "start_time": "2023-12-14T04:42:16.638835Z"
    }
   },
   "id": "f1ae42faa11e2d44"
  },
  {
   "cell_type": "markdown",
   "source": [
    "We chose the `BipedalWalker-v3` environment because it's a continuous action space, and it's (when in hardcore mode) a challenging environment to solve.\n",
    "\n",
    "<br>\n",
    "<br>\n",
    "\n",
    "To see the training progress, we use tensorboard to visualize the training progress and took screenshots of the graphs to use them below. \n",
    "\n",
    "\n",
    "<br>\n",
    "\n",
    "\n",
    "```bash\n",
    "    tensorboard --logdir=logs\n",
    "```\n",
    "\n",
    "<br>\n",
    "\n",
    "<br>\n",
    "\n",
    "\n",
    "---\n",
    "\n",
    "\n",
    "<br>\n",
    "\n",
    "\n",
    "\n",
    "## The algorithms\n",
    "\n",
    "\n",
    "In the assignment, to use our environment, we needed to choose a few from the following algorithms:\n",
    "\n",
    "<br>\n",
    "\n",
    "- ARS (Augmented Random Search)\n",
    "- A2C (Advantage Actor Critic)\n",
    "- DDPG (Deep Deterministic Policy Gradient)\n",
    "- PPO (Proximal Policy Optimization)\n",
    "- RecurrentPPO (Recurrent Proximal Policy Optimization)\n",
    "- SAC (Soft Actor Critic)\n",
    "- TD3 (Twin Delayed DDPG)\n",
    "- TQC (Twin Q-Value Critic)\n",
    "- TRPO (Trust Region Policy Optimization)\n",
    "\n",
    "<br>\n",
    "<br>\n",
    "\n",
    "\n",
    "\n",
    "\n",
    "\n",
    "\n",
    "\n",
    "To see the top 3 algorithms, we trained all of them and chose the best ones:\n",
    "\n",
    "To train them, we used the following script:\n"
   ],
   "metadata": {
    "collapsed": false
   },
   "id": "6c7fc1f9cb98cc40"
  },
  {
   "cell_type": "code",
   "execution_count": 8,
   "outputs": [],
   "source": [
    "import os\n",
    "from stable_baselines3.common.vec_env import SubprocVecEnv, DummyVecEnv\n",
    "from stable_baselines3.common.env_util import make_vec_env\n",
    "\n",
    "models_dir = \"models\"\n",
    "logdir = \"logs\"\n",
    "TIMESTEPS = 10**6\n",
    "\n",
    "\n",
    "def train_model(algo, algo_name, policy, n_envs=os.cpu_count()):\n",
    "    \n",
    "    def latest_model(algorithm):\n",
    "        models = [int(m.split(\".\")[0]) for m in os.listdir(f\"{models_dir}/{algorithm}\")]\n",
    "        models.sort()\n",
    "        return f\"{models_dir}/{algorithm}/{models[-1]}.zip\"\n",
    "\n",
    "    train_env = make_vec_env(env_id, n_envs=n_envs, vec_env_cls=SubprocVecEnv, env_kwargs=dict(hardcore=True),\n",
    "                       vec_env_kwargs=dict(start_method='fork'))\n",
    "\n",
    "    if os.path.exists(f\"{models_dir}/{algo_name}\"):\n",
    "        if os.listdir(f\"{models_dir}/{algo_name}\"):\n",
    "\n",
    "            model_path = latest_model(algo_name)\n",
    "            model = algo.load(model_path, env=train_env)\n",
    "            iters = int(int(model_path.split(\"/\")[2].split(\".\")[0]) / 10 ** 4)\n",
    "        else:\n",
    "\n",
    "            model = algo(policy, train_env, verbose=1, tensorboard_log=logdir)\n",
    "            iters = 0\n",
    "    else:\n",
    "        os.makedirs(f\"{models_dir}/{algo_name}\")\n",
    "        model = algo(policy, train_env, verbose=1,tensorboard_log=logdir)\n",
    "        iters = 0\n",
    "\n",
    "    while True:\n",
    "        iters += 1\n",
    "        model.learn(total_timesteps=TIMESTEPS, progress_bar=True, reset_num_timesteps=False,tb_log_name=algo_name)\n",
    "        model.save(f\"{models_dir}/{algo_name}/{TIMESTEPS * iters}\")\n"
   ],
   "metadata": {
    "collapsed": false,
    "ExecuteTime": {
     "end_time": "2023-12-14T04:43:08.893128Z",
     "start_time": "2023-12-14T04:43:08.884625Z"
    }
   },
   "id": "5857e123a0e11115"
  },
  {
   "cell_type": "markdown",
   "source": [
    "## Training all the possible models"
   ],
   "metadata": {
    "collapsed": false
   },
   "id": "3ad91d413e67960f"
  },
  {
   "cell_type": "markdown",
   "source": [
    "To train the models, we called the funtion above.\n",
    "\n",
    "Then we got this graph of the training progress:\n",
    "\n",
    "![graph](imgs/all_models_original_env.png)\n"
   ],
   "metadata": {
    "collapsed": false
   },
   "id": "1fb720ccfe67f156"
  },
  {
   "cell_type": "code",
   "execution_count": 69,
   "outputs": [],
   "source": [
    "from stable_baselines3.common.evaluation import evaluate_policy\n",
    "import matplotlib.pyplot as plt\n",
    "\n",
    "def test_performance(model):\n",
    "    mean_reward, std_reward = evaluate_policy(model, env, n_eval_episodes=10, warn=False)\n",
    "    return mean_reward\n",
    "\n",
    "def draw_performance(performances):\n",
    "    names, values = zip(*performances)\n",
    "    cmap = plt.get_cmap('Greens')\n",
    "    colors = [cmap(i / len(names)) for i in range(len(names))]    \n",
    "    fig, ax = plt.subplots(figsize=(10, 4))\n",
    "    bars = ax.bar(names, values, color=colors, alpha=0.7)\n",
    "    for bar, value in zip(bars, values):\n",
    "        ax.text(bar.get_x() + bar.get_width() / 2, bar.get_height() + 0.1, str(value), ha='center')\n",
    "    ax.set_title('Performance')    \n",
    "    plt.legend([f'{name}: {value}' for name, value in performances], loc='lower center', bbox_to_anchor=(0.5, -0.15), ncol=len(performances))\n",
    "    plt.tight_layout()\n",
    "    plt.show()"
   ],
   "metadata": {
    "collapsed": false,
    "ExecuteTime": {
     "end_time": "2023-12-14T05:57:24.079988Z",
     "start_time": "2023-12-14T05:57:24.046761Z"
    }
   },
   "id": "86aacd37b81217b5"
  },
  {
   "cell_type": "markdown",
   "source": [
    "Let's test the environment with a random agent from each algorithm:"
   ],
   "metadata": {
    "collapsed": false
   },
   "id": "799d52ccff74f4c8"
  },
  {
   "cell_type": "code",
   "execution_count": 70,
   "outputs": [
    {
     "name": "stdout",
     "output_type": "stream",
     "text": [
      "Wrapping the env with a `Monitor` wrapper\n",
      "Wrapping the env in a DummyVecEnv.\n",
      "Wrapping the env with a `Monitor` wrapper\n",
      "Wrapping the env in a DummyVecEnv.\n",
      "Wrapping the env with a `Monitor` wrapper\n",
      "Wrapping the env in a DummyVecEnv.\n",
      "Wrapping the env with a `Monitor` wrapper\n",
      "Wrapping the env in a DummyVecEnv.\n",
      "Wrapping the env with a `Monitor` wrapper\n",
      "Wrapping the env in a DummyVecEnv.\n",
      "Wrapping the env with a `Monitor` wrapper\n",
      "Wrapping the env in a DummyVecEnv.\n",
      "Wrapping the env with a `Monitor` wrapper\n",
      "Wrapping the env in a DummyVecEnv.\n"
     ]
    },
    {
     "data": {
      "text/plain": "<Figure size 1000x600 with 1 Axes>",
      "image/png": "[encoded data removed]"
     },
     "metadata": {},
     "output_type": "display_data"
    }
   ],
   "source": [
    "from stable_baselines3 import A2C, PPO, SAC\n",
    "from sb3_contrib import ARS, RecurrentPPO, TQC, TRPO\n",
    "\n",
    "draw_performance([(\"A2C\", test_performance(A2C.load(\"final_models/shallow_trained_original_A2C_original_env.zip\", env=env))),\n",
    "                 (\"ARS\", test_performance(ARS.load(\"final_models/shallow_trained_original_ARS_original_env.zip\", env=env))),\n",
    "                 (\"PPO\", test_performance(PPO.load(\"final_models/shallow_trained_original_PPO_original_env.zip\", env=env))),\n",
    "                 (\"RecurrentPPO\", test_performance(RecurrentPPO.load(\"final_models/shallow_trained_original_RPPO_original_env.zip\", env=env))),\n",
    "                 (\"SAC\", test_performance(SAC.load(\"final_models/shallow_trained_original_SAC_original_env.zip\", env=env))),\n",
    "                 (\"TQC\", test_performance(TQC.load(\"final_models/shallow_trained_original_TQC_original_env.zip\", env=env))),\n",
    "                 (\"TRPO\", test_performance(TRPO.load(\"final_models/shallow_trained_original_TRPO_original_env.zip\", env=env)))])\n"
   ],
   "metadata": {
    "collapsed": false,
    "ExecuteTime": {
     "end_time": "2023-12-14T05:57:45.286195Z",
     "start_time": "2023-12-14T05:57:24.651046Z"
    }
   },
   "id": "ad543c044d2f62ee"
  },
  {
   "cell_type": "markdown",
   "source": [
    "## Deeply training the top 5\n",
    "\n",
    "<br>\n",
    "\n",
    "We discarded the models that don't have capabilities to train the environment using SubprocVecEnv, because they are too slow.\n",
    "\n",
    "<br>\n",
    "Now let's continue the training with the top five algorithms:\n",
    "\n",
    "- ARS\n",
    "- PPO\n",
    "- SAC\n",
    "- TRPO\n",
    "- TQC\n",
    "\n",
    "\n",
    "<br>\n",
    "<br>\n",
    "\n",
    "![graph](imgs/original_models_original_env.png)\n",
    "\n",
    "\n",
    "<br>"
   ],
   "metadata": {
    "collapsed": false
   },
   "id": "6cb3972dd5dada6c"
  },
  {
   "cell_type": "code",
   "execution_count": null,
   "outputs": [],
   "source": [
    "draw_performance([(\"ARS\", test_performance(ARS.load(\"final_models/original_ARS_original_env.zip\", env=env))),\n",
    "                  (\"PPO\", test_performance(PPO.load(\"final_models/original_PPO_original_env.zip\", env=env))),\n",
    "                  (\"SAC\", test_performance(SAC.load(\"final_models/original_SAC_original_env.zip\", env=env))),\n",
    "                  (\"TQC\", test_performance(TQC.load(\"final_models/original_TQC_original_env.zip\", env=env))),\n",
    "                  (\"TRPO\", test_performance(TRPO.load(\"final_models/original_TRPO_original_env.zip\", env=env)))])"
   ],
   "metadata": {
    "collapsed": false
   },
   "id": "c5e3a3dce3dc2e6e"
  },
  {
   "cell_type": "markdown",
   "source": [
    "# conclusion about the training, change later\n",
    "\n",
    "<br>\n",
    "\n",
    "## Creating a RewardWrapper\n",
    "\n",
    "<br>\n",
    "\n",
    "We checked, and the problem seems to be that the walker gets stuck in the same place with its legs open.\n",
    "<br>\n",
    "\n",
    "![graph](imgs/stuck_walker.png)\n",
    "\n",
    "\n",
    "To see if we can improve the results, we will try to reward the agent when they stay balanced upright.\n",
    "\n",
    "\n"
   ],
   "metadata": {
    "collapsed": false
   },
   "id": "be23b574b88e924c"
  },
  {
   "cell_type": "code",
   "execution_count": null,
   "outputs": [],
   "source": [
    "from gymnasium import RewardWrapper as RW\n",
    "\n",
    "\n",
    "class RewardWrapper(RW):\n",
    "    def __init__(self, env):\n",
    "        super().__init__(env)\n",
    "        self.env = env\n",
    "\n",
    "    def step(self, action):\n",
    "        # Perform the environment step\n",
    "        obs, reward, done, _, info = self.env.step(action)\n",
    "\n",
    "        # Add a reward for keeping balance\n",
    "        # obs[2] is the angle of the agent from the vertical position\n",
    "        balance_reward = abs(obs[2])\n",
    "        reward += balance_reward\n",
    "\n",
    "        return obs, reward, done, _, info"
   ],
   "metadata": {
    "collapsed": false
   },
   "id": "3f022d23d3f14959"
  },
  {
   "cell_type": "markdown",
   "source": [
    "To train the models, with the RewardWrapper we need to change the environment creation in the training script:\n",
    "\n",
    "<br>\n",
    "\n",
    "```python\n",
    "env = make_vec_env(env_id, n_envs=NUM_ENVS, wrapper_class=RewardWrapper, vec_env_cls=SubprocVecEnv, vec_env_kwargs=dict(start_method='fork'), env_kwargs=dict(hardcore=True))\n",
    "```\n",
    "\n",
    "<br>\n",
    "\n",
    "Now let's train the models again and check the results.\n",
    "<br>\n",
    "\n",
    "![graph](imgs/original_models_wrapped_env.png)"
   ],
   "metadata": {
    "collapsed": false
   },
   "id": "ecaf43211c4394b"
  },
  {
   "cell_type": "code",
   "execution_count": null,
   "outputs": [],
   "source": [
    "draw_performance([(\"ARS\", test_performance(ARS.load(\"final_models/original_ARS_wrapped_env.zip\", env=env))),\n",
    "                  (\"PPO\", test_performance(PPO.load(\"final_models/original_PPO_wrapped_env.zip\", env=env))),\n",
    "                  (\"SAC\", test_performance(SAC.load(\"final_models/original_SAC_wrapped_env.zip\", env=env))),\n",
    "                  (\"TQC\", test_performance(TQC.load(\"final_models/original_TQC_wrapped_env.zip\", env=env))),\n",
    "                  (\"TRPO\", test_performance(TRPO.load(\"final_models/original_TRPO_wrapped_env.zip\", env=env)))])"
   ],
   "metadata": {
    "collapsed": false
   },
   "id": "738595f999335228"
  },
  {
   "cell_type": "markdown",
   "source": [
    "# conclusion about the training, change later"
   ],
   "metadata": {
    "collapsed": false
   },
   "id": "dcac235b1c370c88"
  },
  {
   "cell_type": "markdown",
   "source": [
    "## Tuning Hyperparameters"
   ],
   "metadata": {
    "collapsed": false
   },
   "id": "380917c24bd8a991"
  },
  {
   "cell_type": "markdown",
   "source": [
    "We turned the hyperparameters of the models to see if we could improve the results.\n",
    "\n",
    "\n",
    "```python\n",
    "\n",
    "model = algo(policy, env, verbose=1, tensorboard_log=logdir)  # (hyperparameter) ,learning_rate=0.0001, (Neural Network Architecture change)(Neural Network Architecture change) policy_kwargs=dict(net_arch=[256,(...n_layers...), 256]))\n",
    "\n",
    "\n",
    "model.learn(total_timesteps=TIMESTEPS, reset_num_timesteps=False, tb_log_name=algo_name)  # (hyperparameters) , batch_size=256, ent_coef=0.01, vf_coef=0.5, gae_lambda=0.95))\n",
    "\n",
    "```\n",
    "\n",
    "\n",
    "Now let's train the models again and check the results.\n",
    "\n",
    "\n",
    "![graph](imgs/tunned_models_wrapped_env.png)\n"
   ],
   "metadata": {
    "collapsed": false
   },
   "id": "f9c314781f84cbc9"
  },
  {
   "cell_type": "code",
   "execution_count": null,
   "outputs": [],
   "source": [
    "draw_performance([(\"ARS\", test_performance(ARS.load(\"final_models/tunned_ARS_wrapped_env.zip\", env=env))),\n",
    "                  (\"PPO\", test_performance(PPO.load(\"final_models/tunned_PPO_wrapped_env.zip\", env=env))),\n",
    "                  (\"SAC\", test_performance(SAC.load(\"final_models/tunned_SAC_wrapped_env.zip\", env=env))),\n",
    "                  (\"TQC\", test_performance(TQC.load(\"final_models/tunned_TQC_wrapped_env.zip\", env=env))),\n",
    "                  (\"TRPO\", test_performance(TRPO.load(\"final_models/tunned_TRPO_wrapped_env.zip\", env=env)))])"
   ],
   "metadata": {
    "collapsed": false
   },
   "id": "faa29e452c49e23f"
  },
  {
   "cell_type": "markdown",
   "source": [
    "# CONCLUSIONS ABOUT THE TRAINING CHANGE LATER"
   ],
   "metadata": {
    "collapsed": false
   },
   "id": "38cb3152471ae85"
  },
  {
   "cell_type": "markdown",
   "source": [
    "## Visualising the best model"
   ],
   "metadata": {
    "collapsed": false
   },
   "id": "d354aaa72e291af1"
  },
  {
   "cell_type": "markdown",
   "source": [
    "Now let's visualize the performance of the best model"
   ],
   "metadata": {
    "collapsed": false
   },
   "id": "a7e924a2579faafa"
  },
  {
   "cell_type": "code",
   "execution_count": null,
   "outputs": [],
   "source": [
    "def visualize_model():\n",
    "    test_env =  gym.make('BipedalWalker-v3', hardcore=True, render_mode=\"human\")\n",
    "    \n",
    "    model = PPO.load(\"final_models/original_PPO_wrapped_env.zip\", env=test_env)\n",
    "    obs, info = test_env.reset()\n",
    "    \n",
    "    while True:\n",
    "        action, _states = model.predict(obs)\n",
    "        obs, rewards, terminated, truncated, info = test_env.step(action)\n",
    "        test_env.render()\n",
    "        if terminated or truncated:\n",
    "            break\n",
    "        \n",
    "visualize_model()"
   ],
   "metadata": {
    "collapsed": false
   },
   "id": "b5790e48bae91594"
  },
  {
   "cell_type": "code",
   "execution_count": null,
   "outputs": [],
   "source": [],
   "metadata": {
    "collapsed": false
   },
   "id": "cad31ad20de73c4f"
  },
  {
   "cell_type": "code",
   "execution_count": null,
   "outputs": [],
   "source": [],
   "metadata": {
    "collapsed": false
   },
   "id": "73243d24014ff015"
  },
  {
   "cell_type": "code",
   "execution_count": null,
   "outputs": [],
   "source": [],
   "metadata": {
    "collapsed": false
   },
   "id": "2ef10eff65299656"
  }
 ],
 "metadata": {
  "kernelspec": {
   "display_name": "Python 3",
   "language": "python",
   "name": "python3"
  },
  "language_info": {
   "codemirror_mode": {
    "name": "ipython",
    "version": 2
   },
   "file_extension": ".py",
   "mimetype": "text/x-python",
   "name": "python",
   "nbconvert_exporter": "python",
   "pygments_lexer": "ipython2",
   "version": "2.7.6"
  }
 },
 "nbformat": 4,
 "nbformat_minor": 5
}
